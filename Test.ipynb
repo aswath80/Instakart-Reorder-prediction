{
 "cells": [
  {
   "cell_type": "code",
   "execution_count": 46,
   "metadata": {},
   "outputs": [
    {
     "name": "stdout",
     "output_type": "stream",
     "text": [
      "[(1, 2, 3), (1, 2, 4), (1, 2, 5), (1, 3, 4), (1, 3, 5), (1, 4, 5), (2, 3, 4), (2, 3, 5), (2, 4, 5), (3, 4, 5)]\n"
     ]
    }
   ],
   "source": [
    "from itertools import chain, combinations\n",
    "\n",
    "a = [1,2,3,4,5]\n",
    "b = 3\n",
    "n = len(a)\n",
    "m = n - b + 1\n",
    "d = [(a[i:j],a[k:k+b-j]) for i in range(0, m) for j in range(i+1, i+b) for k in range(j, n-j)]\n",
    "d = [(a[i:j],a[k:k+b-j]) for i in range(0, m) for j in range(i+1, i+b) for k in range(j, n-j)]\n",
    "\n",
    "#d = [(a[i],a[j]) for i in range(0, m) for j in (i+1,i+b-1)]\n",
    "d = [c for c in combinations(a, 3)]\n",
    "print(d)"
   ]
  },
  {
   "cell_type": "code",
   "execution_count": null,
   "metadata": {},
   "outputs": [],
   "source": []
  }
 ],
 "metadata": {
  "kernelspec": {
   "display_name": "Python 3",
   "language": "python",
   "name": "python3"
  },
  "language_info": {
   "codemirror_mode": {
    "name": "ipython",
    "version": 3
   },
   "file_extension": ".py",
   "mimetype": "text/x-python",
   "name": "python",
   "nbconvert_exporter": "python",
   "pygments_lexer": "ipython3",
   "version": "3.6.4"
  }
 },
 "nbformat": 4,
 "nbformat_minor": 2
}
